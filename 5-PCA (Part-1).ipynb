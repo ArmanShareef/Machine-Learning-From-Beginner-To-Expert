{
 "cells": [
  {
   "cell_type": "markdown",
   "metadata": {},
   "source": [
    "# Principal Component Analysis (PCA) Part-1"
   ]
  },
  {
   "cell_type": "markdown",
   "metadata": {},
   "source": [
    "1.Principal Component Analysis(PCA) are widely used algorithms and is a method that rotates the dataset in away such that\n",
    "the rotated features are statistically uncorrelated."
   ]
  },
  {
   "cell_type": "markdown",
   "metadata": {},
   "source": [
    "2.The rotation is often followed by selecting only a subset of the new features, according to how important they are for \n",
    "  explaining the data."
   ]
  },
  {
   "cell_type": "markdown",
   "metadata": {},
   "source": [
    "Note: Before applying PCA, we scale our data so that each feature has unit variance using StandardScaler."
   ]
  },
  {
   "cell_type": "code",
   "execution_count": 2,
   "metadata": {},
   "outputs": [],
   "source": [
    "import numpy as np\n",
    "import pandas as pd\n",
    "import mglearn\n",
    "import matplotlib.pyplot as plt\n",
    "from sklearn.model_selection import train_test_split\n",
    "from sklearn.preprocessing import StandardScaler"
   ]
  },
  {
   "cell_type": "code",
   "execution_count": 3,
   "metadata": {},
   "outputs": [],
   "source": [
    "from sklearn.datasets import load_breast_cancer\n",
    "cancer=load_breast_cancer()\n",
    "\n",
    "scaler=StandardScaler()\n",
    "scaler.fit(cancer.data)\n",
    "X_scaled=scaler.transform(cancer.data)"
   ]
  },
  {
   "cell_type": "markdown",
   "metadata": {},
   "source": [
    "NOTE:\n",
    "1.We instantiate the PCA object, find the principal components by calling 'fit' method, then apply rotation and\n",
    "dimentionality reduction by calling 'transform'."
   ]
  },
  {
   "cell_type": "markdown",
   "metadata": {},
   "source": [
    "2.By default, PCA only rotates(and shifts) the data, but keeps all principal components."
   ]
  },
  {
   "cell_type": "markdown",
   "metadata": {},
   "source": [
    "3.To reduce the dimentionality of the data, we need to specify how many components we want to keep when creating PCA object."
   ]
  },
  {
   "cell_type": "code",
   "execution_count": 6,
   "metadata": {},
   "outputs": [
    {
     "name": "stdout",
     "output_type": "stream",
     "text": [
      "Original shape:(569, 30)\n",
      "Reduced shape:(569, 2)\n"
     ]
    }
   ],
   "source": [
    "from sklearn.decomposition import PCA\n",
    "\n",
    "#keep the first two principal components of the data\n",
    "pca=PCA(n_components=2)\n",
    "\n",
    "#fit the PCA model to breast cancer data\n",
    "pca.fit(X_scaled)\n",
    "\n",
    "#transform the data onto the first two principal components\n",
    "X_pca=pca.transform(X_scaled)\n",
    "\n",
    "print(\"Original shape:{}\".format(str(X_scaled.shape)))\n",
    "print(\"Reduced shape:{}\".format(str(X_pca.shape)))"
   ]
  },
  {
   "cell_type": "markdown",
   "metadata": {},
   "source": [
    "->PCA is an unsupervised method"
   ]
  }
 ],
 "metadata": {
  "kernelspec": {
   "display_name": "Python 3",
   "language": "python",
   "name": "python3"
  },
  "language_info": {
   "codemirror_mode": {
    "name": "ipython",
    "version": 3
   },
   "file_extension": ".py",
   "mimetype": "text/x-python",
   "name": "python",
   "nbconvert_exporter": "python",
   "pygments_lexer": "ipython3",
   "version": "3.8.5"
  }
 },
 "nbformat": 4,
 "nbformat_minor": 4
}
